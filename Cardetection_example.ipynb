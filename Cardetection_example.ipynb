{
  "nbformat": 4,
  "nbformat_minor": 0,
  "metadata": {
    "colab": {
      "name": "Cardetection_example.ipynb",
      "provenance": []
    },
    "kernelspec": {
      "name": "python3",
      "display_name": "Python 3"
    },
    "accelerator": "GPU"
  },
  "cells": [
    {
      "cell_type": "code",
      "metadata": {
        "id": "ixrUB-9LIYGI",
        "colab_type": "code",
        "outputId": "797b924e-83fa-4d2f-c5ec-5338e31b97ba",
        "colab": {
          "base_uri": "https://localhost:8080/",
          "height": 122
        }
      },
      "source": [
        "from google.colab import drive\n",
        "drive.mount('/content/drive')"
      ],
      "execution_count": 0,
      "outputs": [
        {
          "output_type": "stream",
          "text": [
            "Go to this URL in a browser: https://accounts.google.com/o/oauth2/auth?client_id=947318989803-6bn6qk8qdgf4n4g3pfee6491hc0brc4i.apps.googleusercontent.com&redirect_uri=urn%3Aietf%3Awg%3Aoauth%3A2.0%3Aoob&scope=email%20https%3A%2F%2Fwww.googleapis.com%2Fauth%2Fdocs.test%20https%3A%2F%2Fwww.googleapis.com%2Fauth%2Fdrive%20https%3A%2F%2Fwww.googleapis.com%2Fauth%2Fdrive.photos.readonly%20https%3A%2F%2Fwww.googleapis.com%2Fauth%2Fpeopleapi.readonly&response_type=code\n",
            "\n",
            "Enter your authorization code:\n",
            "··········\n",
            "Mounted at /content/drive\n"
          ],
          "name": "stdout"
        }
      ]
    },
    {
      "cell_type": "code",
      "metadata": {
        "id": "wpEp_hhsIvZQ",
        "colab_type": "code",
        "outputId": "26818d5e-a843-4572-a14b-676615037e4e",
        "colab": {
          "base_uri": "https://localhost:8080/",
          "height": 34
        }
      },
      "source": [
        "ls"
      ],
      "execution_count": 0,
      "outputs": [
        {
          "output_type": "stream",
          "text": [
            "\u001b[0m\u001b[01;34mdrive\u001b[0m/  \u001b[01;34msample_data\u001b[0m/\n"
          ],
          "name": "stdout"
        }
      ]
    },
    {
      "cell_type": "code",
      "metadata": {
        "id": "FqUSksE-KNCL",
        "colab_type": "code",
        "colab": {}
      },
      "source": [
        "import os\n",
        "os.chdir('/content/drive/My Drive/Car_labeling/')"
      ],
      "execution_count": 0,
      "outputs": []
    },
    {
      "cell_type": "code",
      "metadata": {
        "id": "ZIJZPueoByJ-",
        "colab_type": "code",
        "outputId": "ae6b4b6b-9d3d-4f08-a4fa-14818c6b736b",
        "colab": {
          "base_uri": "https://localhost:8080/",
          "height": 119
        }
      },
      "source": [
        "ls"
      ],
      "execution_count": 0,
      "outputs": [
        {
          "output_type": "stream",
          "text": [
            "args.py                  extract_cars.py  \u001b[0m\u001b[01;34m__pycache__\u001b[0m/  Usage.txt\n",
            "autonomous_car_label.py  get_kmeans.py    README.md     \u001b[01;34mutils\u001b[0m/\n",
            "convert_weight.py        \u001b[01;34mmisc\u001b[0m/            \u001b[01;34mresults\u001b[0m/      video_test.py\n",
            "\u001b[01;34mdata\u001b[0m/                    model.py         \u001b[01;34msamples\u001b[0m/      yolov3.weights\n",
            "\u001b[01;34mdocs\u001b[0m/                    \u001b[01;34mnoida_cars\u001b[0m/      samples.zip\n",
            "eval.py                  \u001b[01;34moutput_cars\u001b[0m/     train.py\n"
          ],
          "name": "stdout"
        }
      ]
    },
    {
      "cell_type": "code",
      "metadata": {
        "id": "63ggc7vMaX2y",
        "colab_type": "code",
        "outputId": "70ad6739-e6aa-4eec-df3f-0c9d6c89885f",
        "colab": {
          "base_uri": "https://localhost:8080/",
          "height": 122
        }
      },
      "source": [
        "!pip install youtube-dl"
      ],
      "execution_count": 0,
      "outputs": [
        {
          "output_type": "stream",
          "text": [
            "Collecting youtube-dl\n",
            "\u001b[?25l  Downloading https://files.pythonhosted.org/packages/42/9c/9e13d8c2cb43dc158ede19e5dade9037fa5ee321e70494a3960d62f9242b/youtube_dl-2019.9.12.1-py2.py3-none-any.whl (1.8MB)\n",
            "\u001b[K     |████████████████████████████████| 1.8MB 42.7MB/s \n",
            "\u001b[?25hInstalling collected packages: youtube-dl\n",
            "Successfully installed youtube-dl-2019.9.12.1\n"
          ],
          "name": "stdout"
        }
      ]
    },
    {
      "cell_type": "code",
      "metadata": {
        "id": "rmeNYkyFkj4h",
        "colab_type": "code",
        "outputId": "0476fcd5-fb5e-4906-df43-c52999bfbf95",
        "colab": {
          "base_uri": "https://localhost:8080/",
          "height": 85
        }
      },
      "source": [
        "#downloading youtube video \n",
        "!youtube-dl -f  136 https://youtu.be/h8dIHm0uRIM"
      ],
      "execution_count": 0,
      "outputs": [
        {
          "output_type": "stream",
          "text": [
            "[youtube] h8dIHm0uRIM: Downloading webpage\n",
            "[youtube] h8dIHm0uRIM: Downloading video info webpage\n",
            "[download] Destination: Panasonic Lumix G9 1080p Video Sample - Sheffield Traffic-h8dIHm0uRIM.mp4\n",
            "\u001b[K[download] 100% of 8.51MiB in 00:04\n"
          ],
          "name": "stdout"
        }
      ]
    },
    {
      "cell_type": "markdown",
      "metadata": {
        "id": "zvhrH6twUazl",
        "colab_type": "text"
      },
      "source": [
        "#### *note : rename the downloaded file to lumix.mp4 and move it to samples folder to run the exact same line of code as below."
      ]
    },
    {
      "cell_type": "code",
      "metadata": {
        "id": "6wKRf3YaEATM",
        "colab_type": "code",
        "colab": {}
      },
      "source": [
        "!python autonomous_car_label.py samples/lumix.mp4 --save_video True --out_video lumix --jump_time 2.0 --overlap_thres 0.05 --focus_area_percentage 0.90"
      ],
      "execution_count": 0,
      "outputs": []
    },
    {
      "cell_type": "markdown",
      "metadata": {
        "id": "dvSSrOFvQJFf",
        "colab_type": "text"
      },
      "source": [
        "#Now extracting cars from video"
      ]
    },
    {
      "cell_type": "code",
      "metadata": {
        "id": "PlonCQR8SnQ0",
        "colab_type": "code",
        "outputId": "d5dd7a1e-51cf-42ca-9278-bb9b3c96df2c",
        "colab": {
          "base_uri": "https://localhost:8080/",
          "height": 238
        }
      },
      "source": [
        "!python extract_cars.py --input_doc bestframes_lumix.txt --input_vid samples/lumix.mp4 --output_dir lumix_cars"
      ],
      "execution_count": 0,
      "outputs": [
        {
          "output_type": "stream",
          "text": [
            "Total Frames 768\n",
            "FPS : 25\n",
            "Video Resolution : 720x1280\n",
            "First five rows of document.\n",
            "   best_frame_id  ...  quality_indx\n",
            "0            108  ...   1087.556815\n",
            "1            150  ...   1196.558792\n",
            "2            201  ...   1205.191012\n",
            "3            289  ...    993.439743\n",
            "4            319  ...    650.898163\n",
            "\n",
            "[5 rows x 6 columns]\n",
            "Processing end!\n"
          ],
          "name": "stdout"
        }
      ]
    },
    {
      "cell_type": "markdown",
      "metadata": {
        "id": "CgpRCWqpnpuM",
        "colab_type": "text"
      },
      "source": [
        "## Example 2 : Video duration 30 mins"
      ]
    },
    {
      "cell_type": "code",
      "metadata": {
        "id": "XGTfePkQQp5o",
        "colab_type": "code",
        "outputId": "0934bbf1-f6cf-4a22-caa8-ccb866f42749",
        "colab": {
          "base_uri": "https://localhost:8080/",
          "height": 408
        }
      },
      "source": [
        "!youtube-dl -F https://youtu.be/Vgzg6zCxhns"
      ],
      "execution_count": 0,
      "outputs": [
        {
          "output_type": "stream",
          "text": [
            "[youtube] Vgzg6zCxhns: Downloading webpage\n",
            "[youtube] Vgzg6zCxhns: Downloading video info webpage\n",
            "[info] Available formats for Vgzg6zCxhns:\n",
            "format code  extension  resolution note\n",
            "249          webm       audio only tiny   51k , opus @ 50k (48000Hz), 10.30MiB\n",
            "250          webm       audio only tiny   69k , opus @ 70k (48000Hz), 13.84MiB\n",
            "140          m4a        audio only tiny  129k , m4a_dash container, mp4a.40.2@128k (44100Hz), 29.58MiB\n",
            "251          webm       audio only tiny  141k , opus @160k (48000Hz), 27.86MiB\n",
            "278          webm       256x144    144p  106k , webm container, vp9, 25fps, video only, 21.96MiB\n",
            "160          mp4        256x144    144p  114k , avc1.4d400c, 25fps, video only, 21.58MiB\n",
            "242          webm       426x240    240p  231k , vp9, 25fps, video only, 49.06MiB\n",
            "133          mp4        426x240    240p  248k , avc1.4d4015, 25fps, video only, 42.85MiB\n",
            "243          webm       640x360    360p  425k , vp9, 25fps, video only, 90.49MiB\n",
            "134          mp4        640x360    360p  638k , avc1.4d401e, 25fps, video only, 108.94MiB\n",
            "244          webm       854x480    480p  783k , vp9, 25fps, video only, 165.11MiB\n",
            "135          mp4        854x480    480p 1196k , avc1.4d401e, 25fps, video only, 213.40MiB\n",
            "247          webm       1280x720   720p 1561k , vp9, 25fps, video only, 332.34MiB\n",
            "136          mp4        1280x720   720p 2394k , avc1.4d401f, 25fps, video only, 397.99MiB\n",
            "248          webm       1920x1080  1080p 2774k , vp9, 25fps, video only, 592.00MiB\n",
            "137          mp4        1920x1080  1080p 4403k , avc1.640028, 25fps, video only, 759.59MiB\n",
            "43           webm       640x360    360p , vp8.0, vorbis@128k, 201.29MiB\n",
            "18           mp4        640x360    360p  697k , avc1.42001E, mp4a.40.2@ 96k (44100Hz), 162.27MiB\n",
            "22           mp4        1280x720   720p 1836k , avc1.64001F, mp4a.40.2@192k (44100Hz) (best)\n"
          ],
          "name": "stdout"
        }
      ]
    },
    {
      "cell_type": "code",
      "metadata": {
        "id": "ithPg8gHnwox",
        "colab_type": "code",
        "outputId": "c89c0e27-1264-4858-9ce9-ca37907c9ba8",
        "colab": {
          "base_uri": "https://localhost:8080/",
          "height": 85
        }
      },
      "source": [
        "!youtube-dl -f 22 https://youtu.be/Vgzg6zCxhns"
      ],
      "execution_count": 0,
      "outputs": [
        {
          "output_type": "stream",
          "text": [
            "[youtube] Vgzg6zCxhns: Downloading webpage\n",
            "[youtube] Vgzg6zCxhns: Downloading video info webpage\n",
            "[download] Destination: BEST of Supercar SOUNDS in Monaco! LOUD SOUNDS!-Vgzg6zCxhns.mp4\n",
            "\u001b[K[download] 100% of 427.47MiB in 02:12\n"
          ],
          "name": "stdout"
        }
      ]
    },
    {
      "cell_type": "markdown",
      "metadata": {
        "id": "Fx_dV4CZVXie",
        "colab_type": "text"
      },
      "source": [
        "#### *note : rename the downloaded file to monaco.mp4 and move it to samples folder to run the exact same line of code as below."
      ]
    },
    {
      "cell_type": "code",
      "metadata": {
        "id": "T1kB8EajEDup",
        "colab_type": "code",
        "colab": {}
      },
      "source": [
        "!python autonomous_car_label.py samples/monaco.mp4 --save_video True --out_video monaco --jump_time 10.0 --overlap_thres 0.1 --focus_area_percentage 0.90"
      ],
      "execution_count": 0,
      "outputs": []
    },
    {
      "cell_type": "code",
      "metadata": {
        "id": "_Yj496BPojYf",
        "colab_type": "code",
        "outputId": "5d9d4305-65ec-4fbe-cfa6-b4555128ff8a",
        "colab": {
          "base_uri": "https://localhost:8080/",
          "height": 238
        }
      },
      "source": [
        "!python extract_cars.py --input_doc bestframes_monaco.txt --input_vid samples/monaco.mp4 --output_dir monaco_cars"
      ],
      "execution_count": 0,
      "outputs": [
        {
          "output_type": "stream",
          "text": [
            "Total Frames 48821\n",
            "FPS : 25\n",
            "Video Resolution : 720x1280\n",
            "First five rows of document.\n",
            "   best_frame_id  ...  quality_indx\n",
            "0           4170  ...    601.700591\n",
            "1          13873  ...    559.129292\n",
            "2          15543  ...    625.466291\n",
            "3          16513  ...    805.984951\n",
            "4          18913  ...    641.600070\n",
            "\n",
            "[5 rows x 6 columns]\n",
            "Processing end!\n"
          ],
          "name": "stdout"
        }
      ]
    },
    {
      "cell_type": "code",
      "metadata": {
        "id": "DYhMunf18BeX",
        "colab_type": "code",
        "colab": {}
      },
      "source": [
        ""
      ],
      "execution_count": 0,
      "outputs": []
    }
  ]
}